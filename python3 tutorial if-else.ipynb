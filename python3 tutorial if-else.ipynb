{
 "cells": [
  {
   "cell_type": "code",
   "execution_count": null,
   "metadata": {},
   "outputs": [],
   "source": [
    "                                            #python3 tutorial"
   ]
  },
  {
   "cell_type": "code",
   "execution_count": null,
   "metadata": {},
   "outputs": [],
   "source": [
    "#if-else\n",
    "#be careful with the indications in if-else blocks"
   ]
  },
  {
   "cell_type": "code",
   "execution_count": 23,
   "metadata": {},
   "outputs": [
    {
     "name": "stdout",
     "output_type": "stream",
     "text": [
      "lesser than 10\n",
      "lesser than 10\n"
     ]
    }
   ],
   "source": [
    "#if condition\n",
    "a = 5\n",
    "if a < 10:\n",
    "    print(\"lesser than 10\")\n",
    "\n",
    "if (a < 10):\n",
    "    print(\"lesser than 10\")"
   ]
  },
  {
   "cell_type": "code",
   "execution_count": 28,
   "metadata": {},
   "outputs": [
    {
     "name": "stdout",
     "output_type": "stream",
     "text": [
      "lesser than 10\n"
     ]
    }
   ],
   "source": [
    "#if else condition\n",
    "a = 5\n",
    "if a < 10:\n",
    "    print(\"lesser than 10\")\n",
    "else:\n",
    "    print(\"greater than 10\")"
   ]
  },
  {
   "cell_type": "code",
   "execution_count": 27,
   "metadata": {},
   "outputs": [
    {
     "name": "stdout",
     "output_type": "stream",
     "text": [
      "greater than 10\n"
     ]
    }
   ],
   "source": [
    "a = 11\n",
    "if a < 10:\n",
    "    print(\"lesser than 10\")\n",
    "else:\n",
    "    print(\"greater than 10\")"
   ]
  },
  {
   "cell_type": "code",
   "execution_count": 29,
   "metadata": {},
   "outputs": [
    {
     "name": "stdout",
     "output_type": "stream",
     "text": [
      "b is equal to a\n"
     ]
    }
   ],
   "source": [
    "#if elif condition\n",
    "a = 33\n",
    "b = 33\n",
    "if b > a:\n",
    "    print(\"b is greater than a\")\n",
    "elif b == a:\n",
    "    print(\"b is equal to a\")\n",
    "\n"
   ]
  },
  {
   "cell_type": "code",
   "execution_count": 30,
   "metadata": {},
   "outputs": [
    {
     "name": "stdout",
     "output_type": "stream",
     "text": [
      "b is lesser than a\n"
     ]
    }
   ],
   "source": [
    "#if elif else condition\n",
    "a = 33\n",
    "b = 21\n",
    "if b > a:\n",
    "    print(\"b is greater than a\")\n",
    "elif b == a:\n",
    "    print(\"b is equal to a\")\n",
    "else:\n",
    "    print(\"b is lesser than a\")"
   ]
  },
  {
   "cell_type": "code",
   "execution_count": 32,
   "metadata": {},
   "outputs": [
    {
     "name": "stdout",
     "output_type": "stream",
     "text": [
      "a is greater\n"
     ]
    }
   ],
   "source": [
    "#short hand for if\n",
    "a = 2\n",
    "b = 1\n",
    "if a>b:print(\"a is greater\") "
   ]
  },
  {
   "cell_type": "code",
   "execution_count": 33,
   "metadata": {},
   "outputs": [
    {
     "name": "stdout",
     "output_type": "stream",
     "text": [
      "b is greater\n"
     ]
    }
   ],
   "source": [
    "#short hand for if else\n",
    "a = 2\n",
    "b = 3\n",
    "print(\"a is greater\") if a > b else print(\"b is greater\")"
   ]
  },
  {
   "cell_type": "code",
   "execution_count": 38,
   "metadata": {},
   "outputs": [
    {
     "name": "stdout",
     "output_type": "stream",
     "text": [
      "both the conditions are true\n",
      "one of the conditions is true\n"
     ]
    }
   ],
   "source": [
    "#multiple conditions\n",
    "a = 2\n",
    "b = 3\n",
    "#and operator\n",
    "if a<b and a!=0:\n",
    "    print(\"both the conditions are true\")\n",
    "#or operator\n",
    "if a>b or a<b:\n",
    "    print(\"one of the conditions is true\")"
   ]
  },
  {
   "cell_type": "code",
   "execution_count": 2,
   "metadata": {},
   "outputs": [
    {
     "name": "stdout",
     "output_type": "stream",
     "text": [
      "yes\n"
     ]
    }
   ],
   "source": [
    "#checking if key of a dictionary exists\n",
    "dic = {\"a\": 2,\n",
    "       \"b\": 3,\n",
    "        \"c\": 6\n",
    "       }\n",
    "if \"a\" in dic:\n",
    "    print(\"yes\")\n",
    "else:\n",
    "    print(\"no\")\n",
    "    "
   ]
  }
 ],
 "metadata": {
  "kernelspec": {
   "display_name": "Python 3",
   "language": "python",
   "name": "python3"
  },
  "language_info": {
   "codemirror_mode": {
    "name": "ipython",
    "version": 3
   },
   "file_extension": ".py",
   "mimetype": "text/x-python",
   "name": "python",
   "nbconvert_exporter": "python",
   "pygments_lexer": "ipython3",
   "version": "3.7.4"
  }
 },
 "nbformat": 4,
 "nbformat_minor": 2
}
