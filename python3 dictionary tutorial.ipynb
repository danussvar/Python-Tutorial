{
 "cells": [
  {
   "cell_type": "code",
   "execution_count": null,
   "metadata": {},
   "outputs": [],
   "source": [
    "                                     #python3 tutorial\n",
    "    #dictionary"
   ]
  },
  {
   "cell_type": "code",
   "execution_count": 1,
   "metadata": {},
   "outputs": [
    {
     "name": "stdout",
     "output_type": "stream",
     "text": [
      "{'a': 3000, 'b': 2000}\n"
     ]
    }
   ],
   "source": [
    "var = {'a': 3000,        #here 'a' and 'b' are keys. 3000 and 2000 are values\n",
    "      'b': 2000\n",
    "      }\n",
    "print(var)"
   ]
  },
  {
   "cell_type": "code",
   "execution_count": 3,
   "metadata": {},
   "outputs": [
    {
     "name": "stdout",
     "output_type": "stream",
     "text": [
      "dict_items([('a', 3000), ('b', 2000)])\n"
     ]
    }
   ],
   "source": [
    "#to print the items of a dictionary\n",
    "print(var.items())"
   ]
  },
  {
   "cell_type": "code",
   "execution_count": 5,
   "metadata": {},
   "outputs": [
    {
     "name": "stdout",
     "output_type": "stream",
     "text": [
      "dict_keys(['a', 'b'])\n"
     ]
    }
   ],
   "source": [
    "#to get the keys of a dictionary\n",
    "print(var.keys())"
   ]
  },
  {
   "cell_type": "code",
   "execution_count": 6,
   "metadata": {},
   "outputs": [
    {
     "name": "stdout",
     "output_type": "stream",
     "text": [
      "dict_values([3000, 2000])\n"
     ]
    }
   ],
   "source": [
    "#to get the values of a dictionary\n",
    "print(var.values())"
   ]
  },
  {
   "cell_type": "code",
   "execution_count": 30,
   "metadata": {},
   "outputs": [
    {
     "name": "stdout",
     "output_type": "stream",
     "text": [
      "2\n",
      "3\n",
      "6\n"
     ]
    },
    {
     "ename": "KeyError",
     "evalue": "'d'",
     "output_type": "error",
     "traceback": [
      "\u001b[1;31m---------------------------------------------------------------------------\u001b[0m",
      "\u001b[1;31mKeyError\u001b[0m                                  Traceback (most recent call last)",
      "\u001b[1;32m<ipython-input-30-ecc430192c46>\u001b[0m in \u001b[0;36m<module>\u001b[1;34m\u001b[0m\n\u001b[0;32m      6\u001b[0m \u001b[0mprint\u001b[0m\u001b[1;33m(\u001b[0m\u001b[0mdic\u001b[0m\u001b[1;33m[\u001b[0m\u001b[1;34m\"b\"\u001b[0m\u001b[1;33m]\u001b[0m\u001b[1;33m)\u001b[0m\u001b[1;33m\u001b[0m\u001b[1;33m\u001b[0m\u001b[0m\n\u001b[0;32m      7\u001b[0m \u001b[0mprint\u001b[0m\u001b[1;33m(\u001b[0m\u001b[0mdic\u001b[0m\u001b[1;33m[\u001b[0m\u001b[1;34m\"c\"\u001b[0m\u001b[1;33m]\u001b[0m\u001b[1;33m)\u001b[0m\u001b[1;33m\u001b[0m\u001b[1;33m\u001b[0m\u001b[0m\n\u001b[1;32m----> 8\u001b[1;33m \u001b[0mprint\u001b[0m\u001b[1;33m(\u001b[0m\u001b[0mdic\u001b[0m\u001b[1;33m[\u001b[0m\u001b[1;34m\"d\"\u001b[0m\u001b[1;33m]\u001b[0m\u001b[1;33m)\u001b[0m   \u001b[1;31m#here it gives an error\u001b[0m\u001b[1;33m\u001b[0m\u001b[1;33m\u001b[0m\u001b[0m\n\u001b[0m",
      "\u001b[1;31mKeyError\u001b[0m: 'd'"
     ]
    }
   ],
   "source": [
    "dic = {\"a\": 2,\n",
    "       \"b\": 3,\n",
    "        \"c\": 6\n",
    "       }\n",
    "print(dic[\"a\"])\n",
    "print(dic[\"b\"])\n",
    "print(dic[\"c\"])\n",
    "print(dic[\"d\"])   #here it gives an error"
   ]
  },
  {
   "cell_type": "code",
   "execution_count": 31,
   "metadata": {},
   "outputs": [
    {
     "name": "stdout",
     "output_type": "stream",
     "text": [
      "2\n",
      "3\n",
      "6\n",
      "None\n"
     ]
    }
   ],
   "source": [
    "#continution of the above cell\n",
    "dic = {\"a\": 2,\n",
    "       \"b\": 3,\n",
    "        \"c\": 6\n",
    "       }\n",
    "print(dic.get(\"a\"))\n",
    "print(dic.get(\"b\"))\n",
    "print(dic.get(\"c\"))\n",
    "print(dic.get(\"d\"))    #get() function doesn't give an error, but returns a none if there is no element in that key"
   ]
  },
  {
   "cell_type": "code",
   "execution_count": 32,
   "metadata": {},
   "outputs": [
    {
     "name": "stdout",
     "output_type": "stream",
     "text": [
      "{'a': 2, 'b': 3, 'c': 6}\n",
      "{'a': 2, 'b': 3, 'c': 6, 'd': 5}\n",
      "{'a': 2, 'b': 3, 'c': 6, 'd': 5, 'e': 7}\n"
     ]
    }
   ],
   "source": [
    "#how to update a dictionary\n",
    "dic = {\"a\": 2,\n",
    "       \"b\": 3,\n",
    "        \"c\": 6\n",
    "       }\n",
    "print(dic)\n",
    "d = {\"d\": 5}\n",
    "dic.update(d)\n",
    "print(dic)\n",
    "d = {\"e\": 7}\n",
    "dic.update(d)\n",
    "print(dic)"
   ]
  },
  {
   "cell_type": "code",
   "execution_count": 1,
   "metadata": {},
   "outputs": [
    {
     "name": "stdout",
     "output_type": "stream",
     "text": [
      "{}\n",
      "{'a': 290, 'b': 32, 'c': 467}\n"
     ]
    }
   ],
   "source": [
    "#updating a empty dictionary\n",
    "a = {}\n",
    "print(a)\n",
    "a['a'] = 290\n",
    "a['b'] = 32\n",
    "a['c'] = 467\n",
    "print(a)"
   ]
  },
  {
   "cell_type": "code",
   "execution_count": 34,
   "metadata": {},
   "outputs": [
    {
     "name": "stdout",
     "output_type": "stream",
     "text": [
      "3\n"
     ]
    }
   ],
   "source": [
    "#length of a dictionary\n",
    "dic = {\"a\": 2,\n",
    "       \"b\": 3,\n",
    "        \"c\": 6\n",
    "       }\n",
    "print(len(dic))"
   ]
  },
  {
   "cell_type": "code",
   "execution_count": 2,
   "metadata": {},
   "outputs": [
    {
     "name": "stdout",
     "output_type": "stream",
     "text": [
      "{'a': 2, 'b': 3, 'c': 6}\n",
      "{'b': 3, 'c': 6}\n"
     ]
    }
   ],
   "source": [
    "#poping an element\n",
    "dic = {\"a\": 2,\n",
    "       \"b\": 3,\n",
    "        \"c\": 6\n",
    "       }\n",
    "print(dic)\n",
    "dic.pop(\"a\")\n",
    "print(dic)"
   ]
  },
  {
   "cell_type": "code",
   "execution_count": 4,
   "metadata": {},
   "outputs": [
    {
     "name": "stdout",
     "output_type": "stream",
     "text": [
      "{'a': 2, 'b': 3, 'c': 6}\n",
      "{'a': 2, 'c': 6}\n"
     ]
    }
   ],
   "source": [
    "#deleting an element\n",
    "dic = {\"a\": 2,\n",
    "       \"b\": 3,\n",
    "        \"c\": 6\n",
    "       }\n",
    "print(dic)\n",
    "del dic['b']\n",
    "print(dic)"
   ]
  },
  {
   "cell_type": "code",
   "execution_count": 37,
   "metadata": {},
   "outputs": [
    {
     "name": "stdout",
     "output_type": "stream",
     "text": [
      "{'a': 2, 'b': 3, 'c': 6}\n"
     ]
    },
    {
     "ename": "NameError",
     "evalue": "name 'dic' is not defined",
     "output_type": "error",
     "traceback": [
      "\u001b[1;31m---------------------------------------------------------------------------\u001b[0m",
      "\u001b[1;31mNameError\u001b[0m                                 Traceback (most recent call last)",
      "\u001b[1;32m<ipython-input-37-5126644485f6>\u001b[0m in \u001b[0;36m<module>\u001b[1;34m\u001b[0m\n\u001b[0;32m      6\u001b[0m \u001b[0mprint\u001b[0m\u001b[1;33m(\u001b[0m\u001b[0mdic\u001b[0m\u001b[1;33m)\u001b[0m\u001b[1;33m\u001b[0m\u001b[1;33m\u001b[0m\u001b[0m\n\u001b[0;32m      7\u001b[0m \u001b[1;32mdel\u001b[0m \u001b[0mdic\u001b[0m\u001b[1;33m\u001b[0m\u001b[1;33m\u001b[0m\u001b[0m\n\u001b[1;32m----> 8\u001b[1;33m \u001b[0mprint\u001b[0m\u001b[1;33m(\u001b[0m\u001b[0mdic\u001b[0m\u001b[1;33m)\u001b[0m\u001b[1;33m\u001b[0m\u001b[1;33m\u001b[0m\u001b[0m\n\u001b[0m",
      "\u001b[1;31mNameError\u001b[0m: name 'dic' is not defined"
     ]
    }
   ],
   "source": [
    "#deleting a dictionary\n",
    "dic = {\"a\": 2,\n",
    "       \"b\": 3,\n",
    "        \"c\": 6\n",
    "       }\n",
    "print(dic)\n",
    "del dic\n",
    "print(dic)  #here the dictionary is deleted"
   ]
  },
  {
   "cell_type": "code",
   "execution_count": 1,
   "metadata": {},
   "outputs": [
    {
     "name": "stdout",
     "output_type": "stream",
     "text": [
      "{'a': 2, 'b': 3, 'c': 6}\n",
      "{'a': 2, 'b': 3, 'c': 6}\n"
     ]
    }
   ],
   "source": [
    "#copying an dictionary\n",
    "dic = {\"a\": 2,\n",
    "       \"b\": 3,\n",
    "        \"c\": 6\n",
    "       }\n",
    "a = dic.copy()\n",
    "print(a)\n",
    "\n",
    "b = dict(dic)\n",
    "print(b)"
   ]
  },
  {
   "cell_type": "code",
   "execution_count": 43,
   "metadata": {},
   "outputs": [
    {
     "name": "stdout",
     "output_type": "stream",
     "text": [
      "{'a': 123, 'b': 343}\n"
     ]
    }
   ],
   "source": [
    "#creating a dictionary using dict() function\n",
    "dic = dict(a = 123, b = 343)\n",
    "print(dic)"
   ]
  },
  {
   "cell_type": "code",
   "execution_count": 44,
   "metadata": {},
   "outputs": [
    {
     "name": "stdout",
     "output_type": "stream",
     "text": [
      "{'a': 2, 'b': 3, 'c': 6}\n",
      "{}\n"
     ]
    }
   ],
   "source": [
    "#clearing a dictionary\n",
    "dic = {\"a\": 2,\n",
    "       \"b\": 3,\n",
    "        \"c\": 6\n",
    "       }\n",
    "print(dic)\n",
    "dic.clear()\n",
    "print(dic)"
   ]
  },
  {
   "cell_type": "code",
   "execution_count": 46,
   "metadata": {},
   "outputs": [
    {
     "name": "stdout",
     "output_type": "stream",
     "text": [
      "{'a': 1, 'b': 2, 'c': 3}\n"
     ]
    }
   ],
   "source": [
    "#dictionary using zip and dict function\n",
    "key_list = ['a','b','c']\n",
    "value_list = [1,2,3]\n",
    "mapping = dict(zip(key_list,value_list))\n",
    "print(mapping) "
   ]
  }
 ],
 "metadata": {
  "kernelspec": {
   "display_name": "Python 3",
   "language": "python",
   "name": "python3"
  },
  "language_info": {
   "codemirror_mode": {
    "name": "ipython",
    "version": 3
   },
   "file_extension": ".py",
   "mimetype": "text/x-python",
   "name": "python",
   "nbconvert_exporter": "python",
   "pygments_lexer": "ipython3",
   "version": "3.7.4"
  }
 },
 "nbformat": 4,
 "nbformat_minor": 2
}
