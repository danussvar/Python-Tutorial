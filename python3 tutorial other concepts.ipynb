{
 "cells": [
  {
   "cell_type": "code",
   "execution_count": null,
   "metadata": {},
   "outputs": [],
   "source": [
    "                                                       #python3 tutorial"
   ]
  },
  {
   "cell_type": "code",
   "execution_count": null,
   "metadata": {},
   "outputs": [],
   "source": [
    "#other important concepts"
   ]
  },
  {
   "cell_type": "code",
   "execution_count": 3,
   "metadata": {},
   "outputs": [
    {
     "name": "stdout",
     "output_type": "stream",
     "text": [
      "without lambda 5\n",
      "using lambda 5\n"
     ]
    }
   ],
   "source": [
    "#lambda\n",
    "def add(a,b):\n",
    "    return a+b\n",
    "print(\"without lambda\",add(2,3))\n",
    "\n",
    "#this can be written as\n",
    "a = lambda x,y: x+y\n",
    "print(\"using lambda\",a(2,3))"
   ]
  },
  {
   "cell_type": "code",
   "execution_count": 5,
   "metadata": {},
   "outputs": [
    {
     "name": "stdout",
     "output_type": "stream",
     "text": [
      "<map object at 0x0000026DBEA96390>\n",
      "[1, 9, 25]\n"
     ]
    }
   ],
   "source": [
    "#map\n",
    "y = [1,3,5]\n",
    "a = map(lambda x: x**2,y)    #here, every element of list y is mapped to the function and the value is returned\n",
    "print(a)                     #this returs a value which is not readable\n",
    "a = list(a)\n",
    "print(a)"
   ]
  },
  {
   "cell_type": "code",
   "execution_count": 8,
   "metadata": {},
   "outputs": [
    {
     "name": "stdout",
     "output_type": "stream",
     "text": [
      "<filter object at 0x0000026DBEA96B38>\n",
      "[0, 2, 4, 6, 8, 10, 12, 14, 16, 18, 20]\n"
     ]
    }
   ],
   "source": [
    "#filter\n",
    "y = list(range(0,21))\n",
    "a = filter(lambda x: x%2 ==0,y)  #here the values of list y is passed to the function and the true values are filtered and stored in list a\n",
    "print(a)                         #this returs a value which is not readable\n",
    "a = list(a)\n",
    "print(a)"
   ]
  },
  {
   "cell_type": "code",
   "execution_count": 2,
   "metadata": {},
   "outputs": [
    {
     "name": "stdout",
     "output_type": "stream",
     "text": [
      "10\n"
     ]
    }
   ],
   "source": [
    "#reduce\n",
    "from functools import reduce\n",
    "a = [1,2,3,4]\n",
    "b = reduce(lambda x,y: x+y,a)    #here, 1+2=3 this 3 is added with next element,\n",
    "print(b)                         #3+3=6 and this 6 is added with next element, 6+4=10 and it goes on till all the elements are reduced. "
   ]
  }
 ],
 "metadata": {
  "kernelspec": {
   "display_name": "Python 3",
   "language": "python",
   "name": "python3"
  },
  "language_info": {
   "codemirror_mode": {
    "name": "ipython",
    "version": 3
   },
   "file_extension": ".py",
   "mimetype": "text/x-python",
   "name": "python",
   "nbconvert_exporter": "python",
   "pygments_lexer": "ipython3",
   "version": "3.7.4"
  }
 },
 "nbformat": 4,
 "nbformat_minor": 2
}
