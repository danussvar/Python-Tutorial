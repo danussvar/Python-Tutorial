{
 "cells": [
  {
   "cell_type": "code",
   "execution_count": null,
   "metadata": {},
   "outputs": [],
   "source": [
    "                                                             #python3 tutorial                 \n",
    "#List    "
   ]
  },
  {
   "cell_type": "code",
   "execution_count": 1,
   "metadata": {},
   "outputs": [
    {
     "name": "stdout",
     "output_type": "stream",
     "text": [
      "[]\n"
     ]
    }
   ],
   "source": [
    "a = []        #empty list\n",
    "print(a)"
   ]
  },
  {
   "cell_type": "code",
   "execution_count": 2,
   "metadata": {},
   "outputs": [
    {
     "name": "stdout",
     "output_type": "stream",
     "text": [
      "[1, 2, 3]\n"
     ]
    }
   ],
   "source": [
    "a = [1,2,3]    #list of integers\n",
    "print(a)"
   ]
  },
  {
   "cell_type": "code",
   "execution_count": 4,
   "metadata": {},
   "outputs": [
    {
     "name": "stdout",
     "output_type": "stream",
     "text": [
      "['a', 'b', 'c']\n",
      "['a', 'b', 'c']\n"
     ]
    }
   ],
   "source": [
    "a = [\"a\",\"b\",\"c\"]     #list of strings\n",
    "print(a)\n",
    "b = ['a','b','c']\n",
    "print(b)"
   ]
  },
  {
   "cell_type": "code",
   "execution_count": 7,
   "metadata": {},
   "outputs": [
    {
     "name": "stdout",
     "output_type": "stream",
     "text": [
      "[[1, 2, 3], [4, 5, 6]]\n",
      "[[1, 2, 3], [4, 5, 6], [7, 8, 9]]\n"
     ]
    }
   ],
   "source": [
    "#2-d list\n",
    "a = [[1,2,3],[4,5,6]]\n",
    "print(a)\n",
    "\n",
    "b = [[1,2,3],[4,5,6],[7,8,9]]\n",
    "print(b)"
   ]
  },
  {
   "cell_type": "code",
   "execution_count": 6,
   "metadata": {},
   "outputs": [
    {
     "name": "stdout",
     "output_type": "stream",
     "text": [
      "[1, 4, 3]\n",
      "[2, 3, 5]\n"
     ]
    }
   ],
   "source": [
    "#editing the values\n",
    "a = [1,4,3]\n",
    "print(a)\n",
    "a[0] = 2\n",
    "a[1] = 3\n",
    "a[2] = 5\n",
    "print(a)"
   ]
  },
  {
   "cell_type": "code",
   "execution_count": 9,
   "metadata": {},
   "outputs": [
    {
     "name": "stdout",
     "output_type": "stream",
     "text": [
      "[1, 2, 3]\n",
      "[1, 2, 3, [1, 2, 3]]\n"
     ]
    }
   ],
   "source": [
    "#appending a value in a list\n",
    "a = []\n",
    "a.append(1)\n",
    "a.append(2)\n",
    "a.append(3)\n",
    "print(a)\n",
    "\n",
    "b = [1,2,3]\n",
    "a.append(b)  #here the list 'b' is appended as a element, but not as seperate elements in list 'a' \n",
    "print(a)"
   ]
  },
  {
   "cell_type": "code",
   "execution_count": 11,
   "metadata": {},
   "outputs": [
    {
     "name": "stdout",
     "output_type": "stream",
     "text": [
      "[1, 2, 3, 4, 5, 6]\n",
      "[1, 2, 3, 4, 5, 6, 7, 8, 9]\n"
     ]
    }
   ],
   "source": [
    "#extending a list\n",
    "a = [1,2,3]\n",
    "b = [4,5,6]\n",
    "a.extend(b)\n",
    "print(a)\n",
    "a.extend([7,8,9])\n",
    "print(a)"
   ]
  },
  {
   "cell_type": "code",
   "execution_count": 12,
   "metadata": {},
   "outputs": [
    {
     "name": "stdout",
     "output_type": "stream",
     "text": [
      "6\n"
     ]
    }
   ],
   "source": [
    "#length of a list\n",
    "a = [1,2,3,4,5,6]\n",
    "print(len(a)) "
   ]
  },
  {
   "cell_type": "code",
   "execution_count": 14,
   "metadata": {},
   "outputs": [
    {
     "data": {
      "text/plain": [
       "5"
      ]
     },
     "execution_count": 14,
     "metadata": {},
     "output_type": "execute_result"
    }
   ],
   "source": [
    "#counting the given element in a list\n",
    "a = [3,2,3,4,3,6,3,8,3]\n",
    "a.count(3)"
   ]
  },
  {
   "cell_type": "code",
   "execution_count": 15,
   "metadata": {},
   "outputs": [
    {
     "name": "stdout",
     "output_type": "stream",
     "text": [
      "[1, 2, 3, 4]\n",
      "[1, 2, 'a', 3, 4]\n"
     ]
    }
   ],
   "source": [
    "#inserting a given element in a given position\n",
    "a = [1,2,3,4]\n",
    "print(a)\n",
    "a.insert(2,\"a\")   #here \"a\" is inserted in position 2\n",
    "print(a)"
   ]
  },
  {
   "cell_type": "code",
   "execution_count": 9,
   "metadata": {},
   "outputs": [
    {
     "name": "stdout",
     "output_type": "stream",
     "text": [
      "[1, 2, 3, 4]\n",
      "[2, 3, 4]\n"
     ]
    }
   ],
   "source": [
    "#deleting using del\n",
    "a = [1,2,3,4]\n",
    "print(a)\n",
    "del a[0]\n",
    "print(a)"
   ]
  },
  {
   "cell_type": "code",
   "execution_count": 16,
   "metadata": {},
   "outputs": [
    {
     "name": "stdout",
     "output_type": "stream",
     "text": [
      "[1, 2, 3, 4]\n",
      "[1, 2, 3]\n"
     ]
    }
   ],
   "source": [
    "#poping a element from a list when its index is given\n",
    "a = [1,2,3,4]\n",
    "print(a)\n",
    "a.pop(3)\n",
    "print(a)\n"
   ]
  },
  {
   "cell_type": "code",
   "execution_count": 17,
   "metadata": {},
   "outputs": [
    {
     "name": "stdout",
     "output_type": "stream",
     "text": [
      "[1, 2, 3, 4, 3]\n",
      "[1, 2, 4, 3]\n"
     ]
    }
   ],
   "source": [
    "#removing an element\n",
    "a = [1,2,3,4,3]\n",
    "print(a)\n",
    "a.remove(3)   #here, only the first \"3\" in the list is removed and the second \"3\" in index 4 is not removed \n",
    "print(a)"
   ]
  },
  {
   "cell_type": "code",
   "execution_count": 18,
   "metadata": {},
   "outputs": [
    {
     "name": "stdout",
     "output_type": "stream",
     "text": [
      "3\n"
     ]
    }
   ],
   "source": [
    "#printing the index of an element\n",
    "a = ['a','b','c','d','e']\n",
    "index = a.index('d')\n",
    "print(index)"
   ]
  },
  {
   "cell_type": "code",
   "execution_count": 24,
   "metadata": {},
   "outputs": [
    {
     "name": "stdout",
     "output_type": "stream",
     "text": [
      "True\n",
      "False\n"
     ]
    }
   ],
   "source": [
    "#to find if a list is empty or not\n",
    "a = [1,2,2,3,4,3]\n",
    "print(any(a))\n",
    "b = []\n",
    "print(any(b))\n"
   ]
  },
  {
   "cell_type": "code",
   "execution_count": 27,
   "metadata": {},
   "outputs": [
    {
     "name": "stdout",
     "output_type": "stream",
     "text": [
      "sum: 89\n"
     ]
    }
   ],
   "source": [
    "#sum of elements in a list\n",
    "a = [12,34,32,11]\n",
    "b = sum(a)\n",
    "print(\"sum:\",b)"
   ]
  },
  {
   "cell_type": "code",
   "execution_count": 29,
   "metadata": {},
   "outputs": [
    {
     "name": "stdout",
     "output_type": "stream",
     "text": [
      "456\n",
      "e\n"
     ]
    }
   ],
   "source": [
    "#to find the maximum value in a list\n",
    "a = [100,234,12,456,112]\n",
    "print(max(a))\n",
    "b = ['a','b','c','d','e']\n",
    "print(max(b))"
   ]
  },
  {
   "cell_type": "code",
   "execution_count": 30,
   "metadata": {},
   "outputs": [
    {
     "name": "stdout",
     "output_type": "stream",
     "text": [
      "12\n",
      "a\n"
     ]
    }
   ],
   "source": [
    "#to fin the minimum value in a list\n",
    "a = [100,234,12,456,112]\n",
    "print(min(a))\n",
    "b = ['a','b','c','d','e']\n",
    "print(min(b))"
   ]
  },
  {
   "cell_type": "code",
   "execution_count": 31,
   "metadata": {},
   "outputs": [
    {
     "name": "stdout",
     "output_type": "stream",
     "text": [
      "og list: [12, 345, 32, 785, 1]\n",
      "sorted list: [1, 12, 32, 345, 785]\n"
     ]
    }
   ],
   "source": [
    "#to sort a list\n",
    "a = [12,345,32,785,1]\n",
    "print(\"og list:\",a)\n",
    "a = sorted(a)\n",
    "print(\"sorted list:\",a)"
   ]
  },
  {
   "cell_type": "code",
   "execution_count": 35,
   "metadata": {},
   "outputs": [
    {
     "name": "stdout",
     "output_type": "stream",
     "text": [
      "<zip object at 0x00000183A58EC2C8>\n",
      "\n",
      "[(1, 'a'), (2, 'b'), (3, 'c')]\n"
     ]
    }
   ],
   "source": [
    "#to zip to list\n",
    "x = [1,2,3]\n",
    "y = ['a','b','c']\n",
    "z = zip(x,y)   #this creates a list of tuples, tuples will be covered in depth afterwards\n",
    "print(z)       #this is not in redable format\n",
    "print()  \n",
    "\n",
    "z = list(z)    #this function converts other types of arrays to list\n",
    "print(z)     "
   ]
  },
  {
   "cell_type": "code",
   "execution_count": 39,
   "metadata": {},
   "outputs": [
    {
     "name": "stdout",
     "output_type": "stream",
     "text": [
      "['a', 'b', 'c', 'd', 'e']\n",
      "\n",
      "<enumerate object at 0x00000183A5981750>\n",
      "\n",
      "[(0, 'a'), (1, 'b'), (2, 'c'), (3, 'd'), (4, 'e')]\n"
     ]
    }
   ],
   "source": [
    "#enumerating a list\n",
    "a = ['a','b','c','d','e']\n",
    "print(a)\n",
    "print()\n",
    "\n",
    "b = enumerate(a)    #this creates a list of tuples\n",
    "print(b)            #this is not in redable format \n",
    "print()\n",
    "\n",
    "b = list(b)\n",
    "print(b)"
   ]
  },
  {
   "cell_type": "code",
   "execution_count": 40,
   "metadata": {},
   "outputs": [
    {
     "name": "stdout",
     "output_type": "stream",
     "text": [
      "[1, 2, 3, 4, 5, 6, 7, 8]\n",
      "3\n",
      "5\n"
     ]
    }
   ],
   "source": [
    "#printing a element in a specific index of a 1-d list\n",
    "a = [1,2,3,4,5,6,7,8]\n",
    "print(a)\n",
    "print(a[2])\n",
    "print(a[4])"
   ]
  },
  {
   "cell_type": "code",
   "execution_count": 43,
   "metadata": {},
   "outputs": [
    {
     "name": "stdout",
     "output_type": "stream",
     "text": [
      "[[1, 2, 3], [4, 5, 6], [7, 8, 9]]\n",
      "\n",
      "[4, 5, 6]\n",
      "\n",
      "6\n"
     ]
    }
   ],
   "source": [
    "#printing a element in a specific index of a 2-d list\n",
    "a = [[1,2,3],[4,5,6],[7,8,9]]\n",
    "print(a) \n",
    "print()\n",
    "print(a[1])\n",
    "print()\n",
    "b = a[1][2]\n",
    "print(b)"
   ]
  },
  {
   "cell_type": "code",
   "execution_count": 49,
   "metadata": {},
   "outputs": [
    {
     "name": "stdout",
     "output_type": "stream",
     "text": [
      "['a', 'b', 'c', 'd', 'e', 'f', 'g', 'h', 'i']\n",
      "['b', 'c', 'd']\n",
      "['b', 'c', 'd', 'e', 'f', 'g', 'h', 'i']\n",
      "['a', 'b', 'c', 'd']\n",
      "['a', 'b', 'c', 'd', 'e', 'f', 'g', 'h', 'i']\n",
      "['a', 'c', 'e', 'g', 'i']\n",
      "['i', 'h', 'g', 'f', 'e', 'd', 'c', 'b', 'a']\n",
      "['i', 'g', 'e', 'c', 'a']\n",
      "['a', 'b', 'c', 'd', 'e', 'f', 'g', 'h', 'i']\n"
     ]
    }
   ],
   "source": [
    "#slicing in a list\n",
    "a = ['a','b','c','d','e','f','g','h','i']\n",
    "print(a)\n",
    "b = a[1:4]  # a[start:end+1]  prints all elements from index 1 to 3\n",
    "print(b)\n",
    "c = a[1:]     #prints all element from index 1\n",
    "print(c)\n",
    "d = a[:4]     #prints all element from index 0 to 3\n",
    "print(d)\n",
    "e = a[:]      #prints all element\n",
    "print(e)\n",
    "f = a[0:9:2]  # a[start:end+1:step-1]  steps one element\n",
    "print(f)\n",
    "g = a[::-1]  #reverses\n",
    "print(g)\n",
    "h = a[::-2]\n",
    "print(h)    #reverses + steps one element\n",
    "i = a[::1]  #prints all elements\n",
    "print(i)"
   ]
  },
  {
   "cell_type": "code",
   "execution_count": null,
   "metadata": {},
   "outputs": [],
   "source": []
  }
 ],
 "metadata": {
  "kernelspec": {
   "display_name": "Python 3",
   "language": "python",
   "name": "python3"
  },
  "language_info": {
   "codemirror_mode": {
    "name": "ipython",
    "version": 3
   },
   "file_extension": ".py",
   "mimetype": "text/x-python",
   "name": "python",
   "nbconvert_exporter": "python",
   "pygments_lexer": "ipython3",
   "version": "3.7.4"
  }
 },
 "nbformat": 4,
 "nbformat_minor": 2
}
