{
 "cells": [
  {
   "cell_type": "code",
   "execution_count": null,
   "metadata": {},
   "outputs": [],
   "source": [
    "                                                  #python3 tutorial"
   ]
  },
  {
   "cell_type": "code",
   "execution_count": null,
   "metadata": {},
   "outputs": [],
   "source": [
    "#classes and objects\n",
    "#read all the comments to understand clearly"
   ]
  },
  {
   "cell_type": "code",
   "execution_count": null,
   "metadata": {},
   "outputs": [],
   "source": [
    "#creating a class\n",
    "class newclass:\n",
    "    x = 5"
   ]
  },
  {
   "cell_type": "code",
   "execution_count": 1,
   "metadata": {},
   "outputs": [
    {
     "name": "stdout",
     "output_type": "stream",
     "text": [
      "5\n"
     ]
    }
   ],
   "source": [
    "#creating an object for a class\n",
    "class newclass:\n",
    "    x = 5\n",
    "obj = newclass()\n",
    "print(obj.x)"
   ]
  },
  {
   "cell_type": "code",
   "execution_count": 3,
   "metadata": {},
   "outputs": [
    {
     "name": "stdout",
     "output_type": "stream",
     "text": [
      "mike\n",
      "18\n"
     ]
    }
   ],
   "source": [
    "#__init__() function\n",
    "#it's the constructor of a class and it can't be overloaded. it has two underscore before and after init.\n",
    "class newclass:\n",
    "    def __init__(self,name,age):      #self is the refrence to the current instance of the class. it need not to be self,\n",
    "        self.name = name              # it can be named as anything,but it should be the first parameter of a function inside a class\n",
    "        self.age = age\n",
    "ob = newclass(\"mike\",18)\n",
    "print(ob.name)\n",
    "print(ob.age)\n"
   ]
  },
  {
   "cell_type": "code",
   "execution_count": 7,
   "metadata": {},
   "outputs": [
    {
     "name": "stdout",
     "output_type": "stream",
     "text": [
      "my name is mike\n"
     ]
    }
   ],
   "source": [
    "#calling function inside a class using object\n",
    "class newclass:\n",
    "    def __init__(self,name,age):      \n",
    "        self.name = name\n",
    "        self.age = age\n",
    "    def myfunc(self):\n",
    "        print(\"my name is \" + self.name)\n",
    "ob = newclass(\"mike\",18)\n",
    "ob.myfunc()"
   ]
  },
  {
   "cell_type": "code",
   "execution_count": 10,
   "metadata": {},
   "outputs": [
    {
     "name": "stdout",
     "output_type": "stream",
     "text": [
      "my name is mike\n",
      "age: 18\n",
      "changed age: 20\n"
     ]
    }
   ],
   "source": [
    "#modifing object properties\n",
    "class newclass:\n",
    "    def __init__(self,name,age):      \n",
    "        self.name = name\n",
    "        self.age = age\n",
    "    def myfunc(self):\n",
    "        print(\"my name is \" + self.name)\n",
    "ob = newclass(\"mike\",18)\n",
    "ob.myfunc()\n",
    "print(\"age:\",ob.age)\n",
    "ob.age = 20\n",
    "print(\"changed age:\",ob.age)"
   ]
  },
  {
   "cell_type": "code",
   "execution_count": 13,
   "metadata": {},
   "outputs": [
    {
     "name": "stdout",
     "output_type": "stream",
     "text": [
      "my name is mike\n",
      "age: 18\n"
     ]
    },
    {
     "ename": "AttributeError",
     "evalue": "'newclass' object has no attribute 'age'",
     "output_type": "error",
     "traceback": [
      "\u001b[1;31m---------------------------------------------------------------------------\u001b[0m",
      "\u001b[1;31mAttributeError\u001b[0m                            Traceback (most recent call last)",
      "\u001b[1;32m<ipython-input-13-20baed4d4ab1>\u001b[0m in \u001b[0;36m<module>\u001b[1;34m\u001b[0m\n\u001b[0;32m     11\u001b[0m \u001b[1;33m\u001b[0m\u001b[0m\n\u001b[0;32m     12\u001b[0m \u001b[1;32mdel\u001b[0m \u001b[0mob\u001b[0m\u001b[1;33m.\u001b[0m\u001b[0mage\u001b[0m\u001b[1;33m\u001b[0m\u001b[1;33m\u001b[0m\u001b[0m\n\u001b[1;32m---> 13\u001b[1;33m \u001b[0mprint\u001b[0m\u001b[1;33m(\u001b[0m\u001b[1;34m\"age:\"\u001b[0m\u001b[1;33m,\u001b[0m\u001b[0mob\u001b[0m\u001b[1;33m.\u001b[0m\u001b[0mage\u001b[0m\u001b[1;33m)\u001b[0m  \u001b[1;31m#this rises an error because the proberty age of the object ob is deleted\u001b[0m\u001b[1;33m\u001b[0m\u001b[1;33m\u001b[0m\u001b[0m\n\u001b[0m",
      "\u001b[1;31mAttributeError\u001b[0m: 'newclass' object has no attribute 'age'"
     ]
    }
   ],
   "source": [
    "#deleting a property of an object\n",
    "class newclass:\n",
    "    def __init__(self,name,age):      \n",
    "        self.name = name\n",
    "        self.age = age\n",
    "    def myfunc(self):\n",
    "        print(\"my name is \" + self.name)\n",
    "ob = newclass(\"mike\",18)\n",
    "ob.myfunc()\n",
    "print(\"age:\",ob.age)\n",
    "\n",
    "del ob.age\n",
    "print(\"age:\",ob.age)  #this rises an error because the proberty age of the object ob is deleted   "
   ]
  },
  {
   "cell_type": "code",
   "execution_count": 16,
   "metadata": {},
   "outputs": [
    {
     "name": "stdout",
     "output_type": "stream",
     "text": [
      "my name is mike\n",
      "age: 18\n"
     ]
    },
    {
     "ename": "NameError",
     "evalue": "name 'ob' is not defined",
     "output_type": "error",
     "traceback": [
      "\u001b[1;31m---------------------------------------------------------------------------\u001b[0m",
      "\u001b[1;31mNameError\u001b[0m                                 Traceback (most recent call last)",
      "\u001b[1;32m<ipython-input-16-fdb528fc6623>\u001b[0m in \u001b[0;36m<module>\u001b[1;34m\u001b[0m\n\u001b[0;32m     11\u001b[0m \u001b[1;33m\u001b[0m\u001b[0m\n\u001b[0;32m     12\u001b[0m \u001b[1;32mdel\u001b[0m \u001b[0mob\u001b[0m\u001b[1;33m\u001b[0m\u001b[1;33m\u001b[0m\u001b[0m\n\u001b[1;32m---> 13\u001b[1;33m \u001b[0mob\u001b[0m\u001b[1;33m.\u001b[0m\u001b[0mmyfunc\u001b[0m\u001b[1;33m(\u001b[0m\u001b[1;33m)\u001b[0m     \u001b[1;31m#this rises an error because the object ob is deleted\u001b[0m\u001b[1;33m\u001b[0m\u001b[1;33m\u001b[0m\u001b[0m\n\u001b[0m",
      "\u001b[1;31mNameError\u001b[0m: name 'ob' is not defined"
     ]
    }
   ],
   "source": [
    "#deleting an object\n",
    "class newclass:\n",
    "    def __init__(self,name,age):      \n",
    "        self.name = name\n",
    "        self.age = age\n",
    "    def myfunc(self):\n",
    "        print(\"my name is \" + self.name)\n",
    "ob = newclass(\"mike\",18)\n",
    "ob.myfunc()\n",
    "print(\"age:\",ob.age)\n",
    "\n",
    "del ob\n",
    "ob.myfunc()     #this rises an error because the object ob is deleted"
   ]
  }
 ],
 "metadata": {
  "kernelspec": {
   "display_name": "Python 3",
   "language": "python",
   "name": "python3"
  },
  "language_info": {
   "codemirror_mode": {
    "name": "ipython",
    "version": 3
   },
   "file_extension": ".py",
   "mimetype": "text/x-python",
   "name": "python",
   "nbconvert_exporter": "python",
   "pygments_lexer": "ipython3",
   "version": "3.7.3"
  }
 },
 "nbformat": 4,
 "nbformat_minor": 2
}
