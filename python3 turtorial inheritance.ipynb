{
 "cells": [
  {
   "cell_type": "code",
   "execution_count": null,
   "metadata": {},
   "outputs": [],
   "source": [
    "                                            #python3 tutorial"
   ]
  },
  {
   "cell_type": "code",
   "execution_count": null,
   "metadata": {},
   "outputs": [],
   "source": [
    "#inheritance"
   ]
  },
  {
   "cell_type": "code",
   "execution_count": 4,
   "metadata": {},
   "outputs": [
    {
     "name": "stdout",
     "output_type": "stream",
     "text": [
      "chandler bing\n"
     ]
    }
   ],
   "source": [
    "#creating a parent class\n",
    "class a:\n",
    "    def __init__(self,first,last):\n",
    "        self.firstname = first\n",
    "        self.lastname = last\n",
    "    \n",
    "    def name(self):\n",
    "        print(self.firstname,self.lastname)\n",
    "x = a(\"chandler\",\"bing\")\n",
    "x.name()"
   ]
  },
  {
   "cell_type": "code",
   "execution_count": 3,
   "metadata": {},
   "outputs": [
    {
     "name": "stdout",
     "output_type": "stream",
     "text": [
      "ross geller\n"
     ]
    }
   ],
   "source": [
    "#creating a child class\n",
    "class a:\n",
    "    def __init__(self,first,last):\n",
    "        self.firstname = first\n",
    "        self.lastname = last\n",
    "    \n",
    "    def name(self):\n",
    "        print(self.firstname,self.lastname)\n",
    "\n",
    "class b(a):\n",
    "    pass        #pass keyword is used when you don't want any properties in a child class\n",
    "y = b(\"ross\",\"geller\")\n",
    "y.name()"
   ]
  },
  {
   "cell_type": "code",
   "execution_count": 8,
   "metadata": {},
   "outputs": [
    {
     "name": "stdout",
     "output_type": "stream",
     "text": [
      "this is __init__() of child class\n"
     ]
    }
   ],
   "source": [
    "#adding __init__() function to child class\n",
    "class a:\n",
    "    def __init__(self,first,last):\n",
    "        self.firstname = first\n",
    "        self.lastname = last\n",
    "    \n",
    "    def name(self):\n",
    "        print(self.firstname,self.lastname)\n",
    "\n",
    "class b(a):\n",
    "    def __init__(self,first,last):                           #since there is a __init__() in child class the __init__() of parent class wont be called\n",
    "        print(\"this is __init__() of child class\")           #even if the class in inherited\n",
    "        \n",
    "y = b(\"ross\",\"geller\")"
   ]
  },
  {
   "cell_type": "code",
   "execution_count": 21,
   "metadata": {},
   "outputs": [
    {
     "name": "stdout",
     "output_type": "stream",
     "text": [
      "ross geller\n"
     ]
    }
   ],
   "source": [
    "#adding __init__() in child class without overriding the __init__() of parent class\n",
    "class a:\n",
    "    def __init__(self,first,last):\n",
    "        self.firstname = first\n",
    "        self.lastname = last\n",
    "    \n",
    "    def name(self):\n",
    "        print(self.firstname,self.lastname)\n",
    "\n",
    "class b(a):\n",
    "    def __init__(self,first,last):\n",
    "        a.__init__(self,first,last)      #__init__() of parent class is called in child class\n",
    "\n",
    "y = b(\"ross\",\"geller\")\n",
    "y.name()"
   ]
  },
  {
   "cell_type": "code",
   "execution_count": 23,
   "metadata": {},
   "outputs": [
    {
     "name": "stdout",
     "output_type": "stream",
     "text": [
      "rachel green\n",
      "30\n"
     ]
    }
   ],
   "source": [
    "#adding properties to child class\n",
    "class a:\n",
    "    def __init__(self,first,last):\n",
    "        self.firstname = first\n",
    "        self.lastname = last\n",
    "    \n",
    "    def name(self):\n",
    "        print(self.firstname,self.lastname)\n",
    "\n",
    "class b(a):\n",
    "    def __init__(self,first,last,age):\n",
    "        a.__init__(self,first,last)\n",
    "        self.age = age\n",
    "\n",
    "y = b(\"rachel\",\"green\",30)\n",
    "y.name()\n",
    "print(y.age)"
   ]
  },
  {
   "cell_type": "code",
   "execution_count": 29,
   "metadata": {},
   "outputs": [
    {
     "name": "stdout",
     "output_type": "stream",
     "text": [
      "welcome Danussvar JN of age 18\n"
     ]
    }
   ],
   "source": [
    "class a:\n",
    "    def __init__(self,first,last):\n",
    "        self.firstname = first\n",
    "        self.lastname = last\n",
    "    \n",
    "    def name(self):\n",
    "        print(self.firstname,self.lastname)\n",
    "\n",
    "class b(a):\n",
    "    def __init__(self,first,last,age):\n",
    "        a.__init__(self,first,last)\n",
    "        self.age = age\n",
    "    \n",
    "    def welcome(self):\n",
    "        print(\"welcome\",self.firstname,self.lastname,\"of age\",self.age)      #firstname and lastname are in __init__() of parent class,\n",
    "                                                                             # but it can be accessed by child class using this method.\n",
    "y = b(\"Danussvar\",\"JN\",18)\n",
    "y.welcome()"
   ]
  }
 ],
 "metadata": {
  "kernelspec": {
   "display_name": "Python 3",
   "language": "python",
   "name": "python3"
  },
  "language_info": {
   "codemirror_mode": {
    "name": "ipython",
    "version": 3
   },
   "file_extension": ".py",
   "mimetype": "text/x-python",
   "name": "python",
   "nbconvert_exporter": "python",
   "pygments_lexer": "ipython3",
   "version": "3.7.3"
  }
 },
 "nbformat": 4,
 "nbformat_minor": 2
}
