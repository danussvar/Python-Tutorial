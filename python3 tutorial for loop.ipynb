{
 "cells": [
  {
   "cell_type": "code",
   "execution_count": null,
   "metadata": {},
   "outputs": [],
   "source": [
    "                                                    #python3 tutorial"
   ]
  },
  {
   "cell_type": "code",
   "execution_count": null,
   "metadata": {},
   "outputs": [],
   "source": [
    "#for loops"
   ]
  },
  {
   "cell_type": "code",
   "execution_count": 2,
   "metadata": {},
   "outputs": [
    {
     "name": "stdout",
     "output_type": "stream",
     "text": [
      "honda\n",
      "benz\n",
      "bmw\n"
     ]
    }
   ],
   "source": [
    "car = [\"honda\", \"benz\", \"bmw\"]\n",
    "for i in car:\n",
    "    print(i)"
   ]
  },
  {
   "cell_type": "code",
   "execution_count": 3,
   "metadata": {},
   "outputs": [
    {
     "name": "stdout",
     "output_type": "stream",
     "text": [
      "p\n",
      "y\n",
      "t\n",
      "h\n",
      "o\n",
      "n\n"
     ]
    }
   ],
   "source": [
    "#looping through string\n",
    "for i in \"python\":\n",
    "    print(i)"
   ]
  },
  {
   "cell_type": "code",
   "execution_count": 4,
   "metadata": {},
   "outputs": [
    {
     "name": "stdout",
     "output_type": "stream",
     "text": [
      "honda\n",
      "benz\n"
     ]
    }
   ],
   "source": [
    "#break statement in for loop\n",
    "car = [\"honda\", \"benz\", \"bmw\"]\n",
    "for i in car:\n",
    "    print(i)\n",
    "    if i == \"benz\":\n",
    "        break\n",
    "        "
   ]
  },
  {
   "cell_type": "code",
   "execution_count": 5,
   "metadata": {},
   "outputs": [
    {
     "name": "stdout",
     "output_type": "stream",
     "text": [
      "honda\n",
      "bmw\n"
     ]
    }
   ],
   "source": [
    "#continue statement in for loop\n",
    "car = [\"honda\", \"benz\", \"bmw\"]\n",
    "for i in car:\n",
    "    if i == \"benz\":\n",
    "        continue\n",
    "    print(i)"
   ]
  },
  {
   "cell_type": "code",
   "execution_count": 10,
   "metadata": {},
   "outputs": [
    {
     "name": "stdout",
     "output_type": "stream",
     "text": [
      "0\n",
      "1\n",
      "2\n",
      "3\n",
      "4\n",
      "5\n",
      "6\n",
      "7\n",
      "8\n",
      "9\n",
      "\n",
      "2\n",
      "3\n",
      "4\n",
      "5\n",
      "6\n",
      "7\n"
     ]
    }
   ],
   "source": [
    "#using range() function\n",
    "for i in range(10):\n",
    "    print(i)\n",
    "print()    \n",
    "for i in range(2,8):    #value from 2 to 6 but not 8\n",
    "    print(i)\n",
    "    "
   ]
  },
  {
   "cell_type": "code",
   "execution_count": 11,
   "metadata": {},
   "outputs": [
    {
     "name": "stdout",
     "output_type": "stream",
     "text": [
      "0\n",
      "1\n",
      "2\n",
      "3\n",
      "4\n",
      "5\n",
      "6\n",
      "7\n",
      "8\n",
      "9\n",
      "finished\n"
     ]
    }
   ],
   "source": [
    "#else in for loop\n",
    "for i in range(10):\n",
    "    print(i)\n",
    "else:\n",
    "    print(\"finished\")"
   ]
  },
  {
   "cell_type": "code",
   "execution_count": 13,
   "metadata": {},
   "outputs": [
    {
     "name": "stdout",
     "output_type": "stream",
     "text": [
      "red honda\n",
      "red benz\n",
      "red bmw\n",
      "black honda\n",
      "black benz\n",
      "black bmw\n",
      "white honda\n",
      "white benz\n",
      "white bmw\n"
     ]
    }
   ],
   "source": [
    "#nested loop\n",
    "car = [\"honda\", \"benz\", \"bmw\"]\n",
    "color = [\"red\",\"black\",\"white\"]\n",
    "for i in color:\n",
    "    for j in car:\n",
    "        print(i,j)"
   ]
  },
  {
   "cell_type": "code",
   "execution_count": 14,
   "metadata": {},
   "outputs": [
    {
     "name": "stdout",
     "output_type": "stream",
     "text": [
      "1\n",
      "2\n",
      "3\n",
      "4\n"
     ]
    }
   ],
   "source": [
    "#accessing elements of a set\n",
    "a = {1,2,3,4}\n",
    "for i in a:\n",
    "    print(i)"
   ]
  },
  {
   "cell_type": "code",
   "execution_count": 23,
   "metadata": {},
   "outputs": [
    {
     "name": "stdout",
     "output_type": "stream",
     "text": [
      "('a', 2)\n",
      "('b', 3)\n",
      "('c', 6)\n"
     ]
    }
   ],
   "source": [
    "#iteration of dictionary\n",
    "dic = {\"a\": 2,\n",
    "       \"b\": 3,\n",
    "        \"c\": 6\n",
    "       }\n",
    "for i in dic.items():\n",
    "    print(i)\n",
    "        "
   ]
  },
  {
   "cell_type": "code",
   "execution_count": 38,
   "metadata": {},
   "outputs": [
    {
     "name": "stdout",
     "output_type": "stream",
     "text": [
      "without list comprenhsion\n",
      "[20, 22, 24, 26, 28, 30, 32, 34, 36, 38, 40]\n",
      "[10, 11, 12, 13, 14, 15, 16, 17, 18, 19, 20]\n",
      "\n",
      "by list comprenhsion\n",
      "[20, 22, 24, 26, 28, 30, 32, 34, 36, 38, 40]\n",
      "[10, 11, 12, 13, 14, 15, 16, 17, 18, 19, 20]\n"
     ]
    }
   ],
   "source": [
    "print(\"without list comprenhsion\")\n",
    "x = list(range(20,42,2))\n",
    "print(x)\n",
    "y = []\n",
    "for i in x:\n",
    "    y.append(i//2)\n",
    "print(y)\n",
    "print()\n",
    "\n",
    "#this can be done by this method also, its called as list comprenhsion\n",
    "print(\"by list comprenhsion\")\n",
    "x = list(range(20,42,2))\n",
    "print(x)\n",
    "y = [i//2 for i in x]    # \"// is used to when u need the return value as integer in division.If we use \"/\" for division it returs the value in float.\n",
    "print(y)"
   ]
  }
 ],
 "metadata": {
  "kernelspec": {
   "display_name": "Python 3",
   "language": "python",
   "name": "python3"
  },
  "language_info": {
   "codemirror_mode": {
    "name": "ipython",
    "version": 3
   },
   "file_extension": ".py",
   "mimetype": "text/x-python",
   "name": "python",
   "nbconvert_exporter": "python",
   "pygments_lexer": "ipython3",
   "version": "3.7.4"
  }
 },
 "nbformat": 4,
 "nbformat_minor": 2
}
